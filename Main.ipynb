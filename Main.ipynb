{
  "nbformat": 4,
  "nbformat_minor": 0,
  "metadata": {
    "colab": {
      "name": "Main.ipynb",
      "provenance": [],
      "include_colab_link": true
    },
    "kernelspec": {
      "name": "python3",
      "display_name": "Python 3"
    }
  },
  "cells": [
    {
      "cell_type": "markdown",
      "metadata": {
        "id": "view-in-github",
        "colab_type": "text"
      },
      "source": [
        "<a href=\"https://colab.research.google.com/github/Kerimova13/Helloworld/blob/master/Main.ipynb\" target=\"_parent\"><img src=\"https://colab.research.google.com/assets/colab-badge.svg\" alt=\"Open In Colab\"/></a>"
      ]
    },
    {
      "cell_type": "code",
      "metadata": {
        "id": "0aJncgORpqhW",
        "colab_type": "code",
        "outputId": "9878fded-ebd9-4265-bb38-aee79ba28027",
        "colab": {
          "base_uri": "https://localhost:8080/",
          "height": 227
        }
      },
      "source": [
        "#Устанавливаем библиотеку lightfm\n",
        "pip install lightfm nmslib"
      ],
      "execution_count": 0,
      "outputs": [
        {
          "output_type": "stream",
          "text": [
            "Requirement already satisfied: lightfm in /usr/local/lib/python3.6/dist-packages (1.15)\n",
            "Requirement already satisfied: nmslib in /usr/local/lib/python3.6/dist-packages (2.0.5)\n",
            "Requirement already satisfied: numpy in /usr/local/lib/python3.6/dist-packages (from lightfm) (1.18.2)\n",
            "Requirement already satisfied: scipy>=0.17.0 in /usr/local/lib/python3.6/dist-packages (from lightfm) (1.4.1)\n",
            "Requirement already satisfied: requests in /usr/local/lib/python3.6/dist-packages (from lightfm) (2.21.0)\n",
            "Requirement already satisfied: psutil in /usr/local/lib/python3.6/dist-packages (from nmslib) (5.4.8)\n",
            "Requirement already satisfied: pybind11>=2.2.3 in /usr/local/lib/python3.6/dist-packages (from nmslib) (2.4.3)\n",
            "Requirement already satisfied: chardet<3.1.0,>=3.0.2 in /usr/local/lib/python3.6/dist-packages (from requests->lightfm) (3.0.4)\n",
            "Requirement already satisfied: idna<2.9,>=2.5 in /usr/local/lib/python3.6/dist-packages (from requests->lightfm) (2.8)\n",
            "Requirement already satisfied: certifi>=2017.4.17 in /usr/local/lib/python3.6/dist-packages (from requests->lightfm) (2019.11.28)\n",
            "Requirement already satisfied: urllib3<1.25,>=1.21.1 in /usr/local/lib/python3.6/dist-packages (from requests->lightfm) (1.24.3)\n"
          ],
          "name": "stdout"
        }
      ]
    },
    {
      "cell_type": "code",
      "metadata": {
        "id": "agtzg9ZN28Lz",
        "colab_type": "code",
        "outputId": "7b4ca3c9-a625-4c9b-9c10-17edf397905a",
        "colab": {
          "base_uri": "https://localhost:8080/",
          "height": 207
        }
      },
      "source": [
        "#Скачиваем данные\n",
        "!wget http://files.grouplens.org/datasets/movielens/ml-latest-small.zip"
      ],
      "execution_count": 0,
      "outputs": [
        {
          "output_type": "stream",
          "text": [
            "--2020-03-21 11:48:53--  http://files.grouplens.org/datasets/movielens/ml-latest-small.zip\n",
            "Resolving files.grouplens.org (files.grouplens.org)... 128.101.65.152\n",
            "Connecting to files.grouplens.org (files.grouplens.org)|128.101.65.152|:80... connected.\n",
            "HTTP request sent, awaiting response... 200 OK\n",
            "Length: 978202 (955K) [application/zip]\n",
            "Saving to: ‘ml-latest-small.zip.3’\n",
            "\n",
            "ml-latest-small.zip 100%[===================>] 955.28K   974KB/s    in 1.0s    \n",
            "\n",
            "2020-03-21 11:48:54 (974 KB/s) - ‘ml-latest-small.zip.3’ saved [978202/978202]\n",
            "\n"
          ],
          "name": "stdout"
        }
      ]
    },
    {
      "cell_type": "code",
      "metadata": {
        "id": "4NPtUjxQ283S",
        "colab_type": "code",
        "outputId": "191f48e0-c68a-4ad5-e4b4-a4c514d5f7db",
        "colab": {
          "base_uri": "https://localhost:8080/",
          "height": 51
        }
      },
      "source": [
        "#Разархивируем данные\n",
        "!unzip ml-latest-small.zip"
      ],
      "execution_count": 0,
      "outputs": [
        {
          "output_type": "stream",
          "text": [
            "Archive:  ml-latest-small.zip\n",
            "replace ml-latest-small/links.csv? [y]es, [n]o, [A]ll, [N]one, [r]ename: N\n"
          ],
          "name": "stdout"
        }
      ]
    },
    {
      "cell_type": "markdown",
      "metadata": {
        "id": "3tZjJIZ_LH6P",
        "colab_type": "text"
      },
      "source": [
        "#Импортируем модули из библиотеки"
      ]
    },
    {
      "cell_type": "code",
      "metadata": {
        "id": "QWTwcT-Qqiuu",
        "colab_type": "code",
        "colab": {}
      },
      "source": [
        "from lightfm import LightFM\n",
        "import nmslib\n",
        "import pandas as pd\n",
        "from scipy.sparse import coo_matrix"
      ],
      "execution_count": 0,
      "outputs": []
    },
    {
      "cell_type": "markdown",
      "metadata": {
        "id": "uPBJkfxiQGii",
        "colab_type": "text"
      },
      "source": [
        "# Вспомогательные функции"
      ]
    },
    {
      "cell_type": "code",
      "metadata": {
        "id": "VXvDJRHyMmCd",
        "colab_type": "code",
        "colab": {}
      },
      "source": [
        "#Это вспомогательная функция, которая преобразует данные к удобному виду\n",
        "def update_data(movies,ratings):\n",
        "  #функция для преобразования данных\n",
        "  ratings['ID'] = ratings.movieId.astype('category').cat.rename_categories(range(1, ratings.movieId.nunique()+1)).astype(int)\n",
        "  movies = pd.merge(movies,ratings,how='inner',on='movieId').drop_duplicates('movieId')\n",
        "  ratings.rating = ratings.rating.apply(lambda x: 1 if x> 4 else 0)\n",
        "  ratings_sparse = coo_matrix((ratings.rating, (ratings.userId,ratings.ID)))\n",
        "  return movies[['title','genres','ID']].set_index('ID'),ratings[['userId','ID','rating']],ratings_sparse"
      ],
      "execution_count": 0,
      "outputs": []
    },
    {
      "cell_type": "code",
      "metadata": {
        "id": "zRostxq7QF6h",
        "colab_type": "code",
        "colab": {}
      },
      "source": [
        "# Функция для работы с поиском\n",
        "def init_nms (item_embeddings):\n",
        "  # initialize a new nmslib index, using a HNSW index on Cosine Similarity\n",
        "  nms_idx = nmslib.init(method='hnsw', space='cosinesimil')\n",
        "  nms_idx.addDataPointBatch(item_embeddings)\n",
        "  nms_idx.createIndex(print_progress=True)\n",
        "  return nms_idx"
      ],
      "execution_count": 0,
      "outputs": []
    },
    {
      "cell_type": "markdown",
      "metadata": {
        "id": "V6ldPMsBLFq8",
        "colab_type": "text"
      },
      "source": [
        "# Загружаем данные\n"
      ]
    },
    {
      "cell_type": "code",
      "metadata": {
        "id": "MZsPfqE9qge8",
        "colab_type": "code",
        "colab": {}
      },
      "source": [
        "movies =  pd.read_csv('ml-latest-small/movies.csv')\n",
        "ratings =  pd.read_csv('ml-latest-small/ratings.csv')\n",
        "#Преобразуем данные\n",
        "movies,ratings,ratings_sparse = update_data(movies,ratings)"
      ],
      "execution_count": 0,
      "outputs": []
    },
    {
      "cell_type": "markdown",
      "metadata": {
        "id": "3rKFXrhSLDhb",
        "colab_type": "text"
      },
      "source": [
        "#Чтобы вывести данные, нужно ввести имя таблицы и запустить ячейку кликнув на значок play \n",
        "\n"
      ]
    },
    {
      "cell_type": "code",
      "metadata": {
        "id": "5gKfzWob-gpi",
        "colab_type": "code",
        "outputId": "672a947d-3b70-4ea7-ba79-8538834faa68",
        "colab": {
          "base_uri": "https://localhost:8080/",
          "height": 446
        }
      },
      "source": [
        "# Вывести таблицу movies путем ввода её названия movies\n",
        "# Ваш код тут:\n",
        "movies"
      ],
      "execution_count": 0,
      "outputs": [
        {
          "output_type": "execute_result",
          "data": {
            "text/html": [
              "<div>\n",
              "<style scoped>\n",
              "    .dataframe tbody tr th:only-of-type {\n",
              "        vertical-align: middle;\n",
              "    }\n",
              "\n",
              "    .dataframe tbody tr th {\n",
              "        vertical-align: top;\n",
              "    }\n",
              "\n",
              "    .dataframe thead th {\n",
              "        text-align: right;\n",
              "    }\n",
              "</style>\n",
              "<table border=\"1\" class=\"dataframe\">\n",
              "  <thead>\n",
              "    <tr style=\"text-align: right;\">\n",
              "      <th></th>\n",
              "      <th>title</th>\n",
              "      <th>genres</th>\n",
              "    </tr>\n",
              "    <tr>\n",
              "      <th>ID</th>\n",
              "      <th></th>\n",
              "      <th></th>\n",
              "    </tr>\n",
              "  </thead>\n",
              "  <tbody>\n",
              "    <tr>\n",
              "      <th>1</th>\n",
              "      <td>Toy Story (1995)</td>\n",
              "      <td>Adventure|Animation|Children|Comedy|Fantasy</td>\n",
              "    </tr>\n",
              "    <tr>\n",
              "      <th>2</th>\n",
              "      <td>Jumanji (1995)</td>\n",
              "      <td>Adventure|Children|Fantasy</td>\n",
              "    </tr>\n",
              "    <tr>\n",
              "      <th>3</th>\n",
              "      <td>Grumpier Old Men (1995)</td>\n",
              "      <td>Comedy|Romance</td>\n",
              "    </tr>\n",
              "    <tr>\n",
              "      <th>4</th>\n",
              "      <td>Waiting to Exhale (1995)</td>\n",
              "      <td>Comedy|Drama|Romance</td>\n",
              "    </tr>\n",
              "    <tr>\n",
              "      <th>5</th>\n",
              "      <td>Father of the Bride Part II (1995)</td>\n",
              "      <td>Comedy</td>\n",
              "    </tr>\n",
              "    <tr>\n",
              "      <th>...</th>\n",
              "      <td>...</td>\n",
              "      <td>...</td>\n",
              "    </tr>\n",
              "    <tr>\n",
              "      <th>9720</th>\n",
              "      <td>Black Butler: Book of the Atlantic (2017)</td>\n",
              "      <td>Action|Animation|Comedy|Fantasy</td>\n",
              "    </tr>\n",
              "    <tr>\n",
              "      <th>9721</th>\n",
              "      <td>No Game No Life: Zero (2017)</td>\n",
              "      <td>Animation|Comedy|Fantasy</td>\n",
              "    </tr>\n",
              "    <tr>\n",
              "      <th>9722</th>\n",
              "      <td>Flint (2017)</td>\n",
              "      <td>Drama</td>\n",
              "    </tr>\n",
              "    <tr>\n",
              "      <th>9723</th>\n",
              "      <td>Bungo Stray Dogs: Dead Apple (2018)</td>\n",
              "      <td>Action|Animation</td>\n",
              "    </tr>\n",
              "    <tr>\n",
              "      <th>9724</th>\n",
              "      <td>Andrew Dice Clay: Dice Rules (1991)</td>\n",
              "      <td>Comedy</td>\n",
              "    </tr>\n",
              "  </tbody>\n",
              "</table>\n",
              "<p>9724 rows × 2 columns</p>\n",
              "</div>"
            ],
            "text/plain": [
              "                                          title                                       genres\n",
              "ID                                                                                          \n",
              "1                              Toy Story (1995)  Adventure|Animation|Children|Comedy|Fantasy\n",
              "2                                Jumanji (1995)                   Adventure|Children|Fantasy\n",
              "3                       Grumpier Old Men (1995)                               Comedy|Romance\n",
              "4                      Waiting to Exhale (1995)                         Comedy|Drama|Romance\n",
              "5            Father of the Bride Part II (1995)                                       Comedy\n",
              "...                                         ...                                          ...\n",
              "9720  Black Butler: Book of the Atlantic (2017)              Action|Animation|Comedy|Fantasy\n",
              "9721               No Game No Life: Zero (2017)                     Animation|Comedy|Fantasy\n",
              "9722                               Flint (2017)                                        Drama\n",
              "9723        Bungo Stray Dogs: Dead Apple (2018)                             Action|Animation\n",
              "9724        Andrew Dice Clay: Dice Rules (1991)                                       Comedy\n",
              "\n",
              "[9724 rows x 2 columns]"
            ]
          },
          "metadata": {
            "tags": []
          },
          "execution_count": 8
        }
      ]
    },
    {
      "cell_type": "markdown",
      "metadata": {
        "id": "lXdsNulF3pRg",
        "colab_type": "text"
      },
      "source": [
        "## **Напишем код, чтобы вывести первые 5 фильмов**"
      ]
    },
    {
      "cell_type": "code",
      "metadata": {
        "id": "1IzgeJ6d3fW3",
        "colab_type": "code",
        "outputId": "03b9a98e-1f74-4372-e2d4-5d999d2fdbf7",
        "colab": {
          "base_uri": "https://localhost:8080/",
          "height": 263
        }
      },
      "source": [
        "# Чтобы вывести первые элементы, нужно воспользоваться функцией head \n",
        "# Ваш код тут:\n",
        "movies.head(6)"
      ],
      "execution_count": 0,
      "outputs": [
        {
          "output_type": "execute_result",
          "data": {
            "text/html": [
              "<div>\n",
              "<style scoped>\n",
              "    .dataframe tbody tr th:only-of-type {\n",
              "        vertical-align: middle;\n",
              "    }\n",
              "\n",
              "    .dataframe tbody tr th {\n",
              "        vertical-align: top;\n",
              "    }\n",
              "\n",
              "    .dataframe thead th {\n",
              "        text-align: right;\n",
              "    }\n",
              "</style>\n",
              "<table border=\"1\" class=\"dataframe\">\n",
              "  <thead>\n",
              "    <tr style=\"text-align: right;\">\n",
              "      <th></th>\n",
              "      <th>title</th>\n",
              "      <th>genres</th>\n",
              "    </tr>\n",
              "    <tr>\n",
              "      <th>ID</th>\n",
              "      <th></th>\n",
              "      <th></th>\n",
              "    </tr>\n",
              "  </thead>\n",
              "  <tbody>\n",
              "    <tr>\n",
              "      <th>1</th>\n",
              "      <td>Toy Story (1995)</td>\n",
              "      <td>Adventure|Animation|Children|Comedy|Fantasy</td>\n",
              "    </tr>\n",
              "    <tr>\n",
              "      <th>2</th>\n",
              "      <td>Jumanji (1995)</td>\n",
              "      <td>Adventure|Children|Fantasy</td>\n",
              "    </tr>\n",
              "    <tr>\n",
              "      <th>3</th>\n",
              "      <td>Grumpier Old Men (1995)</td>\n",
              "      <td>Comedy|Romance</td>\n",
              "    </tr>\n",
              "    <tr>\n",
              "      <th>4</th>\n",
              "      <td>Waiting to Exhale (1995)</td>\n",
              "      <td>Comedy|Drama|Romance</td>\n",
              "    </tr>\n",
              "    <tr>\n",
              "      <th>5</th>\n",
              "      <td>Father of the Bride Part II (1995)</td>\n",
              "      <td>Comedy</td>\n",
              "    </tr>\n",
              "    <tr>\n",
              "      <th>6</th>\n",
              "      <td>Heat (1995)</td>\n",
              "      <td>Action|Crime|Thriller</td>\n",
              "    </tr>\n",
              "  </tbody>\n",
              "</table>\n",
              "</div>"
            ],
            "text/plain": [
              "                                 title                                       genres\n",
              "ID                                                                                 \n",
              "1                     Toy Story (1995)  Adventure|Animation|Children|Comedy|Fantasy\n",
              "2                       Jumanji (1995)                   Adventure|Children|Fantasy\n",
              "3              Grumpier Old Men (1995)                               Comedy|Romance\n",
              "4             Waiting to Exhale (1995)                         Comedy|Drama|Romance\n",
              "5   Father of the Bride Part II (1995)                                       Comedy\n",
              "6                          Heat (1995)                        Action|Crime|Thriller"
            ]
          },
          "metadata": {
            "tags": []
          },
          "execution_count": 9
        }
      ]
    },
    {
      "cell_type": "markdown",
      "metadata": {
        "id": "u85nS9zWLT4C",
        "colab_type": "text"
      },
      "source": [
        "## Напишите код, чтобы вывести оценки"
      ]
    },
    {
      "cell_type": "code",
      "metadata": {
        "id": "W3sZmgOJ3bVg",
        "colab_type": "code",
        "outputId": "5be7156c-5449-4cb5-b445-0ab5567d61b4",
        "colab": {
          "base_uri": "https://localhost:8080/",
          "height": 232
        }
      },
      "source": [
        "# Оценки хранятся в таблице ratings, чтобы вывести первые элементы, нужно воспользоваться функцией head\n",
        "# Ваш код тут:\n",
        "ratings.head(6)"
      ],
      "execution_count": 0,
      "outputs": [
        {
          "output_type": "execute_result",
          "data": {
            "text/html": [
              "<div>\n",
              "<style scoped>\n",
              "    .dataframe tbody tr th:only-of-type {\n",
              "        vertical-align: middle;\n",
              "    }\n",
              "\n",
              "    .dataframe tbody tr th {\n",
              "        vertical-align: top;\n",
              "    }\n",
              "\n",
              "    .dataframe thead th {\n",
              "        text-align: right;\n",
              "    }\n",
              "</style>\n",
              "<table border=\"1\" class=\"dataframe\">\n",
              "  <thead>\n",
              "    <tr style=\"text-align: right;\">\n",
              "      <th></th>\n",
              "      <th>userId</th>\n",
              "      <th>ID</th>\n",
              "      <th>rating</th>\n",
              "    </tr>\n",
              "  </thead>\n",
              "  <tbody>\n",
              "    <tr>\n",
              "      <th>0</th>\n",
              "      <td>1</td>\n",
              "      <td>1</td>\n",
              "      <td>0</td>\n",
              "    </tr>\n",
              "    <tr>\n",
              "      <th>1</th>\n",
              "      <td>1</td>\n",
              "      <td>3</td>\n",
              "      <td>0</td>\n",
              "    </tr>\n",
              "    <tr>\n",
              "      <th>2</th>\n",
              "      <td>1</td>\n",
              "      <td>6</td>\n",
              "      <td>0</td>\n",
              "    </tr>\n",
              "    <tr>\n",
              "      <th>3</th>\n",
              "      <td>1</td>\n",
              "      <td>44</td>\n",
              "      <td>1</td>\n",
              "    </tr>\n",
              "    <tr>\n",
              "      <th>4</th>\n",
              "      <td>1</td>\n",
              "      <td>47</td>\n",
              "      <td>1</td>\n",
              "    </tr>\n",
              "    <tr>\n",
              "      <th>5</th>\n",
              "      <td>1</td>\n",
              "      <td>63</td>\n",
              "      <td>0</td>\n",
              "    </tr>\n",
              "  </tbody>\n",
              "</table>\n",
              "</div>"
            ],
            "text/plain": [
              "   userId  ID  rating\n",
              "0       1   1       0\n",
              "1       1   3       0\n",
              "2       1   6       0\n",
              "3       1  44       1\n",
              "4       1  47       1\n",
              "5       1  63       0"
            ]
          },
          "metadata": {
            "tags": []
          },
          "execution_count": 10
        }
      ]
    },
    {
      "cell_type": "markdown",
      "metadata": {
        "id": "4ZDxSSgL5wov",
        "colab_type": "text"
      },
      "source": [
        "# Смотрим фильмы"
      ]
    },
    {
      "cell_type": "code",
      "metadata": {
        "id": "nVL7BRFmxiOB",
        "colab_type": "code",
        "cellView": "both",
        "outputId": "65bf118c-3c0c-4ea8-ce0f-7a9689ac34e9",
        "colab": {
          "base_uri": "https://localhost:8080/",
          "height": 171
        }
      },
      "source": [
        "#Тут ничего писать не надо, \n",
        "#давайте посмотрим код!\n",
        "#@title Выберем фильм\n",
        "movie_name = \"Matrix\" #@param {type:\"string\"}\n",
        "movies[movies['title'].str.find(movie_name)>=0]"
      ],
      "execution_count": 0,
      "outputs": [
        {
          "output_type": "execute_result",
          "data": {
            "text/html": [
              "<div>\n",
              "<style scoped>\n",
              "    .dataframe tbody tr th:only-of-type {\n",
              "        vertical-align: middle;\n",
              "    }\n",
              "\n",
              "    .dataframe tbody tr th {\n",
              "        vertical-align: top;\n",
              "    }\n",
              "\n",
              "    .dataframe thead th {\n",
              "        text-align: right;\n",
              "    }\n",
              "</style>\n",
              "<table border=\"1\" class=\"dataframe\">\n",
              "  <thead>\n",
              "    <tr style=\"text-align: right;\">\n",
              "      <th></th>\n",
              "      <th>title</th>\n",
              "      <th>genres</th>\n",
              "    </tr>\n",
              "    <tr>\n",
              "      <th>ID</th>\n",
              "      <th></th>\n",
              "      <th></th>\n",
              "    </tr>\n",
              "  </thead>\n",
              "  <tbody>\n",
              "    <tr>\n",
              "      <th>1939</th>\n",
              "      <td>Matrix, The (1999)</td>\n",
              "      <td>Action|Sci-Fi|Thriller</td>\n",
              "    </tr>\n",
              "    <tr>\n",
              "      <th>4346</th>\n",
              "      <td>Matrix Reloaded, The (2003)</td>\n",
              "      <td>Action|Adventure|Sci-Fi|Thriller|IMAX</td>\n",
              "    </tr>\n",
              "    <tr>\n",
              "      <th>4632</th>\n",
              "      <td>Matrix Revolutions, The (2003)</td>\n",
              "      <td>Action|Adventure|Sci-Fi|Thriller|IMAX</td>\n",
              "    </tr>\n",
              "  </tbody>\n",
              "</table>\n",
              "</div>"
            ],
            "text/plain": [
              "                               title                                 genres\n",
              "ID                                                                         \n",
              "1939              Matrix, The (1999)                 Action|Sci-Fi|Thriller\n",
              "4346     Matrix Reloaded, The (2003)  Action|Adventure|Sci-Fi|Thriller|IMAX\n",
              "4632  Matrix Revolutions, The (2003)  Action|Adventure|Sci-Fi|Thriller|IMAX"
            ]
          },
          "metadata": {
            "tags": []
          },
          "execution_count": 13
        }
      ]
    },
    {
      "cell_type": "markdown",
      "metadata": {
        "id": "gVfWKAg_MSsL",
        "colab_type": "text"
      },
      "source": [
        "# Время магии! Давайте создадим модель\n",
        "\n",
        "\n"
      ]
    },
    {
      "cell_type": "code",
      "metadata": {
        "id": "T4JBUIGwvjCD",
        "colab_type": "code",
        "colab": {}
      },
      "source": [
        "#Создадим модель LightFM с аргументами (loss=LOSS, no_components=NO_COMPONENTS)\n",
        "LOSS =\"warp\" # Алгоритм обучения \n",
        "NO_COMPONENTS = 30 # Размер пространства, Введите ваш код тут\n",
        "model = LightFM(loss=LOSS, no_components=NO_COMPONENTS) # Создаём модель тут, введите ваш код тут model(...)"
      ],
      "execution_count": 0,
      "outputs": []
    },
    {
      "cell_type": "markdown",
      "metadata": {
        "id": "boJzUhOaOeoX",
        "colab_type": "text"
      },
      "source": [
        "# Обучим модель"
      ]
    },
    {
      "cell_type": "code",
      "metadata": {
        "id": "NZ8FkowXOeLR",
        "colab_type": "code",
        "outputId": "8baf2994-d72d-4a7d-854a-cbba12c0ce8f",
        "colab": {
          "base_uri": "https://localhost:8080/",
          "height": 34
        }
      },
      "source": [
        "# Обучаем модель, нужно вызвать функцию .fit у нашей модели model с аргументами (data,epochs)\n",
        "# Наши данные - это рейтинги пользователей ratings_sparse\n",
        "data = ratings_sparse \n",
        "# обучаем модель, введите ваш код тут model.fit(...)\n",
        "model.fit(data)"
      ],
      "execution_count": 0,
      "outputs": [
        {
          "output_type": "execute_result",
          "data": {
            "text/plain": [
              "<lightfm.lightfm.LightFM at 0x7f826c7535f8>"
            ]
          },
          "metadata": {
            "tags": []
          },
          "execution_count": 18
        }
      ]
    },
    {
      "cell_type": "markdown",
      "metadata": {
        "id": "1uxsF5zxP0Op",
        "colab_type": "text"
      },
      "source": [
        "# Используем модель"
      ]
    },
    {
      "cell_type": "code",
      "metadata": {
        "id": "d8_y-dZAv-6Q",
        "colab_type": "code",
        "colab": {}
      },
      "source": [
        "#Тут мы получаем новое представление наших данных\n",
        "_, item_embeddings = model.get_item_representations()\n",
        "#Построим поиск\n",
        "nms_idx = init_nms(item_embeddings)"
      ],
      "execution_count": 0,
      "outputs": []
    },
    {
      "cell_type": "markdown",
      "metadata": {
        "id": "Va_CGhJX5t4C",
        "colab_type": "text"
      },
      "source": [
        "# Вспомогательная функция\n"
      ]
    },
    {
      "cell_type": "code",
      "metadata": {
        "id": "S36w-_5PwZdx",
        "colab_type": "code",
        "colab": {}
      },
      "source": [
        "#Вспомогательная функция для поиска ближайших фильмов\n",
        "def nearest_movies_nms(movie_id, index, n=10):\n",
        "    #Возвращает ближайшие фильмы\n",
        "    nn = index.knnQuery(item_embeddings[movie_id], k=n)\n",
        "    return nn"
      ],
      "execution_count": 0,
      "outputs": []
    },
    {
      "cell_type": "markdown",
      "metadata": {
        "id": "9ztpmRFO6FJx",
        "colab_type": "text"
      },
      "source": [
        "# Выбираем фильм для рекомендации"
      ]
    },
    {
      "cell_type": "code",
      "metadata": {
        "id": "kjYDxLMX7et1",
        "colab_type": "code",
        "cellView": "both",
        "outputId": "0c1b75cb-5d7e-4059-ac46-bcbfd4fa5d4c",
        "colab": {
          "base_uri": "https://localhost:8080/",
          "height": 110
        }
      },
      "source": [
        "#@title Выберем фильм\n",
        "movie_name = \"Inception\" #@param {type:\"string\"}\n",
        "ID = 7356 #@param {type:\"number\"}\n",
        "movies[movies['title'].str.find(movie_name)>=0]"
      ],
      "execution_count": 0,
      "outputs": [
        {
          "output_type": "execute_result",
          "data": {
            "text/html": [
              "<div>\n",
              "<style scoped>\n",
              "    .dataframe tbody tr th:only-of-type {\n",
              "        vertical-align: middle;\n",
              "    }\n",
              "\n",
              "    .dataframe tbody tr th {\n",
              "        vertical-align: top;\n",
              "    }\n",
              "\n",
              "    .dataframe thead th {\n",
              "        text-align: right;\n",
              "    }\n",
              "</style>\n",
              "<table border=\"1\" class=\"dataframe\">\n",
              "  <thead>\n",
              "    <tr style=\"text-align: right;\">\n",
              "      <th></th>\n",
              "      <th>title</th>\n",
              "      <th>genres</th>\n",
              "    </tr>\n",
              "    <tr>\n",
              "      <th>ID</th>\n",
              "      <th></th>\n",
              "      <th></th>\n",
              "    </tr>\n",
              "  </thead>\n",
              "  <tbody>\n",
              "    <tr>\n",
              "      <th>7356</th>\n",
              "      <td>Inception (2010)</td>\n",
              "      <td>Action|Crime|Drama|Mystery|Sci-Fi|Thriller|IMAX</td>\n",
              "    </tr>\n",
              "  </tbody>\n",
              "</table>\n",
              "</div>"
            ],
            "text/plain": [
              "                 title                                           genres\n",
              "ID                                                                     \n",
              "7356  Inception (2010)  Action|Crime|Drama|Mystery|Sci-Fi|Thriller|IMAX"
            ]
          },
          "metadata": {
            "tags": []
          },
          "execution_count": 65
        }
      ]
    },
    {
      "cell_type": "markdown",
      "metadata": {
        "id": "cjGQaR9q6C6L",
        "colab_type": "text"
      },
      "source": [
        "# Получим рекомендации"
      ]
    },
    {
      "cell_type": "code",
      "metadata": {
        "id": "YVEnS-n_RJrO",
        "colab_type": "code",
        "colab": {}
      },
      "source": [
        "# Получаем рекомендации\n",
        "rec = nearest_movies_nms(ID,nms_idx)[0]"
      ],
      "execution_count": 0,
      "outputs": []
    },
    {
      "cell_type": "markdown",
      "metadata": {
        "id": "H2GwigrT5_XG",
        "colab_type": "text"
      },
      "source": [
        "# Выведем наши рекомендации"
      ]
    },
    {
      "cell_type": "code",
      "metadata": {
        "id": "eQRyrC8z8KXQ",
        "colab_type": "code",
        "outputId": "1424439f-6b64-4525-ca5a-20bf915e96e0",
        "colab": {
          "base_uri": "https://localhost:8080/",
          "height": 386
        }
      },
      "source": [
        "# воспользуемся таблицей movies и функцией .loc с аргументами [rec], тут нужно использовать\n",
        "# квадратные скобки\n",
        "# Ваш код тут\n",
        "movies.loc[rec]"
      ],
      "execution_count": 0,
      "outputs": [
        {
          "output_type": "execute_result",
          "data": {
            "text/html": [
              "<div>\n",
              "<style scoped>\n",
              "    .dataframe tbody tr th:only-of-type {\n",
              "        vertical-align: middle;\n",
              "    }\n",
              "\n",
              "    .dataframe tbody tr th {\n",
              "        vertical-align: top;\n",
              "    }\n",
              "\n",
              "    .dataframe thead th {\n",
              "        text-align: right;\n",
              "    }\n",
              "</style>\n",
              "<table border=\"1\" class=\"dataframe\">\n",
              "  <thead>\n",
              "    <tr style=\"text-align: right;\">\n",
              "      <th></th>\n",
              "      <th>title</th>\n",
              "      <th>genres</th>\n",
              "    </tr>\n",
              "    <tr>\n",
              "      <th>ID</th>\n",
              "      <th></th>\n",
              "      <th></th>\n",
              "    </tr>\n",
              "  </thead>\n",
              "  <tbody>\n",
              "    <tr>\n",
              "      <th>3570</th>\n",
              "      <td>Harry Potter and the Sorcerer's Stone (a.k.a. ...</td>\n",
              "      <td>Adventure|Children|Fantasy</td>\n",
              "    </tr>\n",
              "    <tr>\n",
              "      <th>6506</th>\n",
              "      <td>Harry Potter and the Order of the Phoenix (2007)</td>\n",
              "      <td>Adventure|Drama|Fantasy|IMAX</td>\n",
              "    </tr>\n",
              "    <tr>\n",
              "      <th>5306</th>\n",
              "      <td>Bill Cosby, Himself (1983)</td>\n",
              "      <td>Comedy|Documentary</td>\n",
              "    </tr>\n",
              "    <tr>\n",
              "      <th>2016</th>\n",
              "      <td>Tarzan (1999)</td>\n",
              "      <td>Adventure|Animation|Children|Drama</td>\n",
              "    </tr>\n",
              "    <tr>\n",
              "      <th>515</th>\n",
              "      <td>Pretty Woman (1990)</td>\n",
              "      <td>Comedy|Romance</td>\n",
              "    </tr>\n",
              "    <tr>\n",
              "      <th>2671</th>\n",
              "      <td>Gladiator (2000)</td>\n",
              "      <td>Action|Adventure|Drama</td>\n",
              "    </tr>\n",
              "    <tr>\n",
              "      <th>7676</th>\n",
              "      <td>Avengers, The (2012)</td>\n",
              "      <td>Action|Adventure|Sci-Fi|IMAX</td>\n",
              "    </tr>\n",
              "    <tr>\n",
              "      <th>3828</th>\n",
              "      <td>Star Wars: Episode II - Attack of the Clones (...</td>\n",
              "      <td>Action|Adventure|Sci-Fi|IMAX</td>\n",
              "    </tr>\n",
              "    <tr>\n",
              "      <th>6469</th>\n",
              "      <td>Jonestown: The Life and Death of Peoples Templ...</td>\n",
              "      <td>Documentary</td>\n",
              "    </tr>\n",
              "    <tr>\n",
              "      <th>2833</th>\n",
              "      <td>X-Men (2000)</td>\n",
              "      <td>Action|Adventure|Sci-Fi</td>\n",
              "    </tr>\n",
              "  </tbody>\n",
              "</table>\n",
              "</div>"
            ],
            "text/plain": [
              "                                                  title                              genres\n",
              "ID                                                                                         \n",
              "3570  Harry Potter and the Sorcerer's Stone (a.k.a. ...          Adventure|Children|Fantasy\n",
              "6506   Harry Potter and the Order of the Phoenix (2007)        Adventure|Drama|Fantasy|IMAX\n",
              "5306                         Bill Cosby, Himself (1983)                  Comedy|Documentary\n",
              "2016                                      Tarzan (1999)  Adventure|Animation|Children|Drama\n",
              "515                                 Pretty Woman (1990)                      Comedy|Romance\n",
              "2671                                   Gladiator (2000)              Action|Adventure|Drama\n",
              "7676                               Avengers, The (2012)        Action|Adventure|Sci-Fi|IMAX\n",
              "3828  Star Wars: Episode II - Attack of the Clones (...        Action|Adventure|Sci-Fi|IMAX\n",
              "6469  Jonestown: The Life and Death of Peoples Templ...                         Documentary\n",
              "2833                                       X-Men (2000)             Action|Adventure|Sci-Fi"
            ]
          },
          "metadata": {
            "tags": []
          },
          "execution_count": 38
        }
      ]
    },
    {
      "cell_type": "markdown",
      "metadata": {
        "id": "XNyz4f6B5no6",
        "colab_type": "text"
      },
      "source": [
        "# Получили плохие результаты, давайте их улучшим!"
      ]
    },
    {
      "cell_type": "markdown",
      "metadata": {
        "id": "AMQyXNQe6s6p",
        "colab_type": "text"
      },
      "source": [
        "## Как можно улучшить нашу модель?\n"
      ]
    },
    {
      "cell_type": "code",
      "metadata": {
        "id": "nzH3WVKv42Rb",
        "colab_type": "code",
        "outputId": "2b22ef17-4a6f-4518-eb5b-46fbf44db946",
        "colab": {
          "base_uri": "https://localhost:8080/",
          "height": 34
        }
      },
      "source": [
        "#@title Выберем кол-во эпох для обучения\n",
        "# Обучаем модель, нужно вызвать функцию .fit у нашей модели model с аргументами (data,epochs)\n",
        "epochs =  100#@param {type:\"number\"}\n",
        "model.fit(data,epochs=epochs) # обучаем модель"
      ],
      "execution_count": 0,
      "outputs": [
        {
          "output_type": "execute_result",
          "data": {
            "text/plain": [
              "<lightfm.lightfm.LightFM at 0x7f826c7535f8>"
            ]
          },
          "metadata": {
            "tags": []
          },
          "execution_count": 60
        }
      ]
    },
    {
      "cell_type": "code",
      "metadata": {
        "id": "SkNXooeSICgt",
        "colab_type": "code",
        "colab": {}
      },
      "source": [
        "import random\n",
        "random.seed(42)"
      ],
      "execution_count": 0,
      "outputs": []
    },
    {
      "cell_type": "code",
      "metadata": {
        "id": "1jiJgZnp42UM",
        "colab_type": "code",
        "colab": {}
      },
      "source": [
        "#Тут мы получаем новое представление наших данных\n",
        "_, item_embeddings = model.get_item_representations()\n",
        "#Построим поиск\n",
        "nms_idx = init_nms(item_embeddings)"
      ],
      "execution_count": 0,
      "outputs": []
    },
    {
      "cell_type": "code",
      "metadata": {
        "id": "vk_Eu9J942bA",
        "colab_type": "code",
        "colab": {}
      },
      "source": [
        "# Получаем рекомендации\n",
        "rec = nearest_movies_nms(ID,nms_idx)[0]"
      ],
      "execution_count": 0,
      "outputs": []
    },
    {
      "cell_type": "code",
      "metadata": {
        "id": "Ig-etPtuDCw-",
        "colab_type": "code",
        "outputId": "7fe1469d-f1b0-4d04-fda2-1fc4ac1a55c0",
        "colab": {
          "base_uri": "https://localhost:8080/",
          "height": 386
        }
      },
      "source": [
        "movies.loc[rec]"
      ],
      "execution_count": 0,
      "outputs": [
        {
          "output_type": "execute_result",
          "data": {
            "text/html": [
              "<div>\n",
              "<style scoped>\n",
              "    .dataframe tbody tr th:only-of-type {\n",
              "        vertical-align: middle;\n",
              "    }\n",
              "\n",
              "    .dataframe tbody tr th {\n",
              "        vertical-align: top;\n",
              "    }\n",
              "\n",
              "    .dataframe thead th {\n",
              "        text-align: right;\n",
              "    }\n",
              "</style>\n",
              "<table border=\"1\" class=\"dataframe\">\n",
              "  <thead>\n",
              "    <tr style=\"text-align: right;\">\n",
              "      <th></th>\n",
              "      <th>title</th>\n",
              "      <th>genres</th>\n",
              "    </tr>\n",
              "    <tr>\n",
              "      <th>ID</th>\n",
              "      <th></th>\n",
              "      <th></th>\n",
              "    </tr>\n",
              "  </thead>\n",
              "  <tbody>\n",
              "    <tr>\n",
              "      <th>7356</th>\n",
              "      <td>Inception (2010)</td>\n",
              "      <td>Action|Crime|Drama|Mystery|Sci-Fi|Thriller|IMAX</td>\n",
              "    </tr>\n",
              "    <tr>\n",
              "      <th>8359</th>\n",
              "      <td>Interstellar (2014)</td>\n",
              "      <td>Sci-Fi|IMAX</td>\n",
              "    </tr>\n",
              "    <tr>\n",
              "      <th>6694</th>\n",
              "      <td>Dark Knight, The (2008)</td>\n",
              "      <td>Action|Crime|Drama|IMAX</td>\n",
              "    </tr>\n",
              "    <tr>\n",
              "      <th>6994</th>\n",
              "      <td>Inglourious Basterds (2009)</td>\n",
              "      <td>Action|Drama|War</td>\n",
              "    </tr>\n",
              "    <tr>\n",
              "      <th>8046</th>\n",
              "      <td>Django Unchained (2012)</td>\n",
              "      <td>Action|Drama|Western</td>\n",
              "    </tr>\n",
              "    <tr>\n",
              "      <th>7242</th>\n",
              "      <td>Shutter Island (2010)</td>\n",
              "      <td>Drama|Mystery|Thriller</td>\n",
              "    </tr>\n",
              "    <tr>\n",
              "      <th>6906</th>\n",
              "      <td>Gran Torino (2008)</td>\n",
              "      <td>Crime|Drama</td>\n",
              "    </tr>\n",
              "    <tr>\n",
              "      <th>8355</th>\n",
              "      <td>Grand Budapest Hotel, The (2014)</td>\n",
              "      <td>Comedy|Drama</td>\n",
              "    </tr>\n",
              "    <tr>\n",
              "      <th>8235</th>\n",
              "      <td>Gravity (2013)</td>\n",
              "      <td>Action|Sci-Fi|IMAX</td>\n",
              "    </tr>\n",
              "    <tr>\n",
              "      <th>8883</th>\n",
              "      <td>Inside Out (2015)</td>\n",
              "      <td>Adventure|Animation|Children|Comedy|Drama|Fantasy</td>\n",
              "    </tr>\n",
              "  </tbody>\n",
              "</table>\n",
              "</div>"
            ],
            "text/plain": [
              "                                 title                                             genres\n",
              "ID                                                                                       \n",
              "7356                  Inception (2010)    Action|Crime|Drama|Mystery|Sci-Fi|Thriller|IMAX\n",
              "8359               Interstellar (2014)                                        Sci-Fi|IMAX\n",
              "6694           Dark Knight, The (2008)                            Action|Crime|Drama|IMAX\n",
              "6994       Inglourious Basterds (2009)                                   Action|Drama|War\n",
              "8046           Django Unchained (2012)                               Action|Drama|Western\n",
              "7242             Shutter Island (2010)                             Drama|Mystery|Thriller\n",
              "6906                Gran Torino (2008)                                        Crime|Drama\n",
              "8355  Grand Budapest Hotel, The (2014)                                       Comedy|Drama\n",
              "8235                    Gravity (2013)                                 Action|Sci-Fi|IMAX\n",
              "8883                 Inside Out (2015)  Adventure|Animation|Children|Comedy|Drama|Fantasy"
            ]
          },
          "metadata": {
            "tags": []
          },
          "execution_count": 67
        }
      ]
    },
    {
      "cell_type": "code",
      "metadata": {
        "id": "K-Uh4U5D6f9l",
        "colab_type": "code",
        "outputId": "faa469a1-d8da-4b15-ec9d-eceb1e4a56b7",
        "colab": {
          "base_uri": "https://localhost:8080/",
          "height": 386
        }
      },
      "source": [
        "movies.loc[rec]"
      ],
      "execution_count": 0,
      "outputs": [
        {
          "output_type": "execute_result",
          "data": {
            "text/html": [
              "<div>\n",
              "<style scoped>\n",
              "    .dataframe tbody tr th:only-of-type {\n",
              "        vertical-align: middle;\n",
              "    }\n",
              "\n",
              "    .dataframe tbody tr th {\n",
              "        vertical-align: top;\n",
              "    }\n",
              "\n",
              "    .dataframe thead th {\n",
              "        text-align: right;\n",
              "    }\n",
              "</style>\n",
              "<table border=\"1\" class=\"dataframe\">\n",
              "  <thead>\n",
              "    <tr style=\"text-align: right;\">\n",
              "      <th></th>\n",
              "      <th>title</th>\n",
              "      <th>genres</th>\n",
              "    </tr>\n",
              "    <tr>\n",
              "      <th>ID</th>\n",
              "      <th></th>\n",
              "      <th></th>\n",
              "    </tr>\n",
              "  </thead>\n",
              "  <tbody>\n",
              "    <tr>\n",
              "      <th>1939</th>\n",
              "      <td>Matrix, The (1999)</td>\n",
              "      <td>Action|Sci-Fi|Thriller</td>\n",
              "    </tr>\n",
              "    <tr>\n",
              "      <th>3137</th>\n",
              "      <td>Memento (2000)</td>\n",
              "      <td>Mystery|Thriller</td>\n",
              "    </tr>\n",
              "    <tr>\n",
              "      <th>911</th>\n",
              "      <td>Star Wars: Episode VI - Return of the Jedi (1983)</td>\n",
              "      <td>Action|Adventure|Sci-Fi</td>\n",
              "    </tr>\n",
              "    <tr>\n",
              "      <th>2980</th>\n",
              "      <td>Crouching Tiger, Hidden Dragon (Wo hu cang lon...</td>\n",
              "      <td>Action|Drama|Romance</td>\n",
              "    </tr>\n",
              "    <tr>\n",
              "      <th>3634</th>\n",
              "      <td>Lord of the Rings: The Fellowship of the Ring,...</td>\n",
              "      <td>Adventure|Fantasy</td>\n",
              "    </tr>\n",
              "    <tr>\n",
              "      <th>1503</th>\n",
              "      <td>Saving Private Ryan (1998)</td>\n",
              "      <td>Action|Drama|War</td>\n",
              "    </tr>\n",
              "    <tr>\n",
              "      <th>2225</th>\n",
              "      <td>Fight Club (1999)</td>\n",
              "      <td>Action|Crime|Drama|Thriller</td>\n",
              "    </tr>\n",
              "    <tr>\n",
              "      <th>794</th>\n",
              "      <td>Die Hard (1988)</td>\n",
              "      <td>Action|Crime|Thriller</td>\n",
              "    </tr>\n",
              "    <tr>\n",
              "      <th>4132</th>\n",
              "      <td>Lord of the Rings: The Two Towers, The (2002)</td>\n",
              "      <td>Adventure|Fantasy</td>\n",
              "    </tr>\n",
              "    <tr>\n",
              "      <th>898</th>\n",
              "      <td>Star Wars: Episode V - The Empire Strikes Back...</td>\n",
              "      <td>Action|Adventure|Sci-Fi</td>\n",
              "    </tr>\n",
              "  </tbody>\n",
              "</table>\n",
              "</div>"
            ],
            "text/plain": [
              "                                                  title                       genres\n",
              "ID                                                                                  \n",
              "1939                                 Matrix, The (1999)       Action|Sci-Fi|Thriller\n",
              "3137                                     Memento (2000)             Mystery|Thriller\n",
              "911   Star Wars: Episode VI - Return of the Jedi (1983)      Action|Adventure|Sci-Fi\n",
              "2980  Crouching Tiger, Hidden Dragon (Wo hu cang lon...         Action|Drama|Romance\n",
              "3634  Lord of the Rings: The Fellowship of the Ring,...            Adventure|Fantasy\n",
              "1503                         Saving Private Ryan (1998)             Action|Drama|War\n",
              "2225                                  Fight Club (1999)  Action|Crime|Drama|Thriller\n",
              "794                                     Die Hard (1988)        Action|Crime|Thriller\n",
              "4132      Lord of the Rings: The Two Towers, The (2002)            Adventure|Fantasy\n",
              "898   Star Wars: Episode V - The Empire Strikes Back...      Action|Adventure|Sci-Fi"
            ]
          },
          "metadata": {
            "tags": []
          },
          "execution_count": 56
        }
      ]
    },
    {
      "cell_type": "markdown",
      "metadata": {
        "id": "dBtXkM-H7W3y",
        "colab_type": "text"
      },
      "source": [
        "# А что если изменить размерность нашего пространства с 30 до 1\n"
      ]
    },
    {
      "cell_type": "code",
      "metadata": {
        "id": "vws18zV17bjE",
        "colab_type": "code",
        "outputId": "f3b37c62-b38c-415c-a90b-9049eae69e76",
        "colab": {
          "base_uri": "https://localhost:8080/",
          "height": 34
        }
      },
      "source": [
        "NO_COMPONENTS =   100#@param {type:\"number\"}\n",
        "model = LightFM(loss=LOSS, no_components = NO_COMPONENTS) # Создаём модель тут, введите ваш код тут\n",
        "epochs =  100#@param {type:\"number\"}\n",
        "model.fit(data,epochs=epochs) # обучаем модель, введите ваш код тут"
      ],
      "execution_count": 0,
      "outputs": [
        {
          "output_type": "execute_result",
          "data": {
            "text/plain": [
              "<lightfm.lightfm.LightFM at 0x7f826c753320>"
            ]
          },
          "metadata": {
            "tags": []
          },
          "execution_count": 78
        }
      ]
    },
    {
      "cell_type": "code",
      "metadata": {
        "id": "93dLwaNi7unr",
        "colab_type": "code",
        "colab": {}
      },
      "source": [
        "#Тут мы получаем новое представление наших данных\n",
        "_, item_embeddings = model.get_item_representations()\n",
        "#Построим поиск\n",
        "nms_idx = init_nms(item_embeddings)"
      ],
      "execution_count": 0,
      "outputs": []
    },
    {
      "cell_type": "code",
      "metadata": {
        "id": "bXjeqv897wNZ",
        "colab_type": "code",
        "colab": {}
      },
      "source": [
        "# Получаем рекомендации\n",
        "rec = nearest_movies_nms(ID,nms_idx)[0]"
      ],
      "execution_count": 0,
      "outputs": []
    },
    {
      "cell_type": "code",
      "metadata": {
        "id": "_L4eOtU9FKyw",
        "colab_type": "code",
        "outputId": "8ab1709b-0af4-47e2-e54e-251c3d37359e",
        "colab": {
          "base_uri": "https://localhost:8080/",
          "height": 69
        }
      },
      "source": [
        "nearest_movies_nms(ID,nms_idx)[1]"
      ],
      "execution_count": 0,
      "outputs": [
        {
          "output_type": "execute_result",
          "data": {
            "text/plain": [
              "array([0.        , 0.19141555, 0.22392285, 0.28938806, 0.28994387,\n",
              "       0.29812783, 0.3051318 , 0.31696337, 0.32168782, 0.33135068],\n",
              "      dtype=float32)"
            ]
          },
          "metadata": {
            "tags": []
          },
          "execution_count": 85
        }
      ]
    },
    {
      "cell_type": "code",
      "metadata": {
        "id": "R4zf0Aet7xcz",
        "colab_type": "code",
        "outputId": "1160e260-3633-42d4-be06-8ca97c7e6346",
        "colab": {
          "base_uri": "https://localhost:8080/",
          "height": 386
        }
      },
      "source": [
        "movies.loc[rec]"
      ],
      "execution_count": 0,
      "outputs": [
        {
          "output_type": "execute_result",
          "data": {
            "text/html": [
              "<div>\n",
              "<style scoped>\n",
              "    .dataframe tbody tr th:only-of-type {\n",
              "        vertical-align: middle;\n",
              "    }\n",
              "\n",
              "    .dataframe tbody tr th {\n",
              "        vertical-align: top;\n",
              "    }\n",
              "\n",
              "    .dataframe thead th {\n",
              "        text-align: right;\n",
              "    }\n",
              "</style>\n",
              "<table border=\"1\" class=\"dataframe\">\n",
              "  <thead>\n",
              "    <tr style=\"text-align: right;\">\n",
              "      <th></th>\n",
              "      <th>title</th>\n",
              "      <th>genres</th>\n",
              "    </tr>\n",
              "    <tr>\n",
              "      <th>ID</th>\n",
              "      <th></th>\n",
              "      <th></th>\n",
              "    </tr>\n",
              "  </thead>\n",
              "  <tbody>\n",
              "    <tr>\n",
              "      <th>7356</th>\n",
              "      <td>Inception (2010)</td>\n",
              "      <td>Action|Crime|Drama|Mystery|Sci-Fi|Thriller|IMAX</td>\n",
              "    </tr>\n",
              "    <tr>\n",
              "      <th>6694</th>\n",
              "      <td>Dark Knight, The (2008)</td>\n",
              "      <td>Action|Crime|Drama|IMAX</td>\n",
              "    </tr>\n",
              "    <tr>\n",
              "      <th>7242</th>\n",
              "      <td>Shutter Island (2010)</td>\n",
              "      <td>Drama|Mystery|Thriller</td>\n",
              "    </tr>\n",
              "    <tr>\n",
              "      <th>9417</th>\n",
              "      <td>Split (2017)</td>\n",
              "      <td>Drama|Horror|Thriller</td>\n",
              "    </tr>\n",
              "    <tr>\n",
              "      <th>8355</th>\n",
              "      <td>Grand Budapest Hotel, The (2014)</td>\n",
              "      <td>Comedy|Drama</td>\n",
              "    </tr>\n",
              "    <tr>\n",
              "      <th>7023</th>\n",
              "      <td>Up (2009)</td>\n",
              "      <td>Adventure|Animation|Children|Drama</td>\n",
              "    </tr>\n",
              "    <tr>\n",
              "      <th>6994</th>\n",
              "      <td>Inglourious Basterds (2009)</td>\n",
              "      <td>Action|Drama|War</td>\n",
              "    </tr>\n",
              "    <tr>\n",
              "      <th>8740</th>\n",
              "      <td>The Hateful Eight (2015)</td>\n",
              "      <td>Western</td>\n",
              "    </tr>\n",
              "    <tr>\n",
              "      <th>7751</th>\n",
              "      <td>Dark Knight Rises, The (2012)</td>\n",
              "      <td>Action|Adventure|Crime|IMAX</td>\n",
              "    </tr>\n",
              "    <tr>\n",
              "      <th>6870</th>\n",
              "      <td>Quantum of Solace (2008)</td>\n",
              "      <td>Action|Adventure|Thriller</td>\n",
              "    </tr>\n",
              "  </tbody>\n",
              "</table>\n",
              "</div>"
            ],
            "text/plain": [
              "                                 title                                           genres\n",
              "ID                                                                                     \n",
              "7356                  Inception (2010)  Action|Crime|Drama|Mystery|Sci-Fi|Thriller|IMAX\n",
              "6694           Dark Knight, The (2008)                          Action|Crime|Drama|IMAX\n",
              "7242             Shutter Island (2010)                           Drama|Mystery|Thriller\n",
              "9417                      Split (2017)                            Drama|Horror|Thriller\n",
              "8355  Grand Budapest Hotel, The (2014)                                     Comedy|Drama\n",
              "7023                         Up (2009)               Adventure|Animation|Children|Drama\n",
              "6994       Inglourious Basterds (2009)                                 Action|Drama|War\n",
              "8740          The Hateful Eight (2015)                                          Western\n",
              "7751     Dark Knight Rises, The (2012)                      Action|Adventure|Crime|IMAX\n",
              "6870          Quantum of Solace (2008)                        Action|Adventure|Thriller"
            ]
          },
          "metadata": {
            "tags": []
          },
          "execution_count": 83
        }
      ]
    },
    {
      "cell_type": "markdown",
      "metadata": {
        "id": "azCuXEooUIUX",
        "colab_type": "text"
      },
      "source": [
        "Что можно сделать?\n"
      ]
    },
    {
      "cell_type": "markdown",
      "metadata": {
        "id": "9tT7eP54UQC6",
        "colab_type": "text"
      },
      "source": [
        "1.   Изменить параметры размерности!\n",
        "2.   Изменить критерий оценки\n",
        "\n"
      ]
    }
  ]
}